{
    "cells": [
        {
            "cell_type": "markdown",
            "metadata": {},
            "source": "## 1. Import libraries"
        },
        {
            "cell_type": "code",
            "execution_count": 1,
            "metadata": {},
            "outputs": [
                {
                    "name": "stdout",
                    "output_type": "stream",
                    "text": "Libraries imported.\n"
                }
            ],
            "source": "import numpy as np # library to handle data in a vectorized manner\nimport pandas as pd\nimport folium\nfrom geopy.geocoders import Nominatim\nimport requests\nimport lxml.html as lh\nprint(\"Libraries imported.\")"
        },
        {
            "cell_type": "markdown",
            "metadata": {},
            "source": "## 2. Scrap data from Wikipedia page into a DataFrame (Based on Previous Part)"
        },
        {
            "cell_type": "code",
            "execution_count": 7,
            "metadata": {},
            "outputs": [
                {
                    "name": "stdout",
                    "output_type": "stream",
                    "text": "1:\"Postal Code\n\"\n2:\"Borough\n\"\n3:\"Neighbourhood\n\"\n"
                },
                {
                    "data": {
                        "text/html": "<div>\n<style scoped>\n    .dataframe tbody tr th:only-of-type {\n        vertical-align: middle;\n    }\n\n    .dataframe tbody tr th {\n        vertical-align: top;\n    }\n\n    .dataframe thead th {\n        text-align: right;\n    }\n</style>\n<table border=\"1\" class=\"dataframe\">\n  <thead>\n    <tr style=\"text-align: right;\">\n      <th></th>\n      <th>PostalCode</th>\n      <th>Borough</th>\n      <th>Neighborhood</th>\n    </tr>\n  </thead>\n  <tbody>\n    <tr>\n      <th>0</th>\n      <td>M3A</td>\n      <td>North York</td>\n      <td>Parkwoods</td>\n    </tr>\n    <tr>\n      <th>1</th>\n      <td>M4A</td>\n      <td>North York</td>\n      <td>Victoria Village</td>\n    </tr>\n    <tr>\n      <th>2</th>\n      <td>M5A</td>\n      <td>Downtown Toronto</td>\n      <td>Regent Park, Harbourfront</td>\n    </tr>\n    <tr>\n      <th>3</th>\n      <td>M6A</td>\n      <td>North York</td>\n      <td>Lawrence Manor, Lawrence Heights</td>\n    </tr>\n    <tr>\n      <th>4</th>\n      <td>M7A</td>\n      <td>Downtown Toronto</td>\n      <td>Queen's Park, Ontario Provincial Government</td>\n    </tr>\n  </tbody>\n</table>\n</div>",
                        "text/plain": "  PostalCode           Borough                                 Neighborhood\n0        M3A        North York                                    Parkwoods\n1        M4A        North York                             Victoria Village\n2        M5A  Downtown Toronto                    Regent Park, Harbourfront\n3        M6A        North York             Lawrence Manor, Lawrence Heights\n4        M7A  Downtown Toronto  Queen's Park, Ontario Provincial Government"
                    },
                    "execution_count": 7,
                    "metadata": {},
                    "output_type": "execute_result"
                }
            ],
            "source": "url='https://en.wikipedia.org/wiki/List_of_postal_codes_of_Canada:_M'\npage = requests.get(url)\ndoc = lh.fromstring(page.content)\ntr_elements = doc.xpath('//tr')\nr = requests.get(url)\n\ncol=[]\ni=0\nfor t in tr_elements[0]:\n    i+=1\n    name=t.text_content()\n    print ('%d:\"%s\"'%(i,name))\n    col.append((name,[]))\n\nsize_of_col = 3\nfor j in range(1,len(tr_elements)):\n    #T is our j'th row\n    T=tr_elements[j]\n    \n    if len(T)!=size_of_col:\n        break\n    \n    #i is the index of our column\n    i=0\n    \n    #Iterate through each element of the row\n    for t in T.iterchildren():\n        data=t.text_content() \n        #Check if row is empty\n        if i>0:\n        #Convert any numerical value to integers\n            try:\n                data=int(data)\n            except:\n                pass\n        #Append the data to the empty list of the i'th column\n        col[i][1].append(data)\n        #Increment i for the next column\n        i+=1\n        \nDict={title:column for (title,column) in col}\ndf=pd.DataFrame(Dict)\ndf = df.replace(r'\\n','', regex=True) \ndf.columns = ['PostalCode', 'Borough', 'Neighborhood']\ndf.drop(df.tail(1).index,inplace=True)\n\ndf = df[df.Borough != \"Not assigned\"].reset_index(drop=True)\n\ndf = df.replace(r'/',', ', regex=True) \n\nfor index, row in df.iterrows():\n    if row[\"Neighborhood\"] == \"Not assigned\":\n        row[\"Neighborhood\"] = row[\"Borough\"]\ndf.head()"
        },
        {
            "cell_type": "markdown",
            "metadata": {},
            "source": "## 3. Defining the new Dataframe Format"
        },
        {
            "cell_type": "code",
            "execution_count": 8,
            "metadata": {},
            "outputs": [
                {
                    "data": {
                        "text/plain": "(103, 5)"
                    },
                    "execution_count": 8,
                    "metadata": {},
                    "output_type": "execute_result"
                }
            ],
            "source": "df[\"Latitude\"] = \"\"\ndf[\"Longitude\"] = \"\"\ndf.shape"
        },
        {
            "cell_type": "code",
            "execution_count": 9,
            "metadata": {},
            "outputs": [
                {
                    "data": {
                        "text/plain": "0           Parkwoods\n1    Victoria Village\n2         Regent Park\n3      Lawrence Manor\n4        Queen's Park\nName: Neighborhood, dtype: object"
                    },
                    "execution_count": 9,
                    "metadata": {},
                    "output_type": "execute_result"
                }
            ],
            "source": "df[\"Neighborhood\"] = df[\"Neighborhood\"].str.split(\",\", n = 1, expand = True) \ndf[\"Neighborhood\"] = df[\"Neighborhood\"].str.split(\"-\", n = 1, expand = True) \ndf[\"Neighborhood\"].head(5)"
        },
        {
            "cell_type": "code",
            "execution_count": 10,
            "metadata": {},
            "outputs": [
                {
                    "data": {
                        "text/html": "<div>\n<style scoped>\n    .dataframe tbody tr th:only-of-type {\n        vertical-align: middle;\n    }\n\n    .dataframe tbody tr th {\n        vertical-align: top;\n    }\n\n    .dataframe thead th {\n        text-align: right;\n    }\n</style>\n<table border=\"1\" class=\"dataframe\">\n  <thead>\n    <tr style=\"text-align: right;\">\n      <th></th>\n      <th>PostalCode</th>\n      <th>Borough</th>\n      <th>Neighborhood</th>\n      <th>Latitude</th>\n      <th>Longitude</th>\n    </tr>\n  </thead>\n  <tbody>\n    <tr>\n      <th>0</th>\n      <td>M3A</td>\n      <td>North York</td>\n      <td>Parkwoods</td>\n      <td></td>\n      <td></td>\n    </tr>\n    <tr>\n      <th>1</th>\n      <td>M4A</td>\n      <td>North York</td>\n      <td>Victoria Village</td>\n      <td></td>\n      <td></td>\n    </tr>\n    <tr>\n      <th>2</th>\n      <td>M5A</td>\n      <td>Downtown Toronto</td>\n      <td>Regent Park</td>\n      <td></td>\n      <td></td>\n    </tr>\n    <tr>\n      <th>3</th>\n      <td>M6A</td>\n      <td>North York</td>\n      <td>Lawrence Manor</td>\n      <td></td>\n      <td></td>\n    </tr>\n    <tr>\n      <th>4</th>\n      <td>M7A</td>\n      <td>Downtown Toronto</td>\n      <td>Queen's Park</td>\n      <td></td>\n      <td></td>\n    </tr>\n    <tr>\n      <th>5</th>\n      <td>M9A</td>\n      <td>Etobicoke</td>\n      <td>Islington Avenue</td>\n      <td></td>\n      <td></td>\n    </tr>\n    <tr>\n      <th>6</th>\n      <td>M1B</td>\n      <td>Scarborough</td>\n      <td>Malvern</td>\n      <td></td>\n      <td></td>\n    </tr>\n    <tr>\n      <th>7</th>\n      <td>M3B</td>\n      <td>North York</td>\n      <td>Don Mills</td>\n      <td></td>\n      <td></td>\n    </tr>\n    <tr>\n      <th>8</th>\n      <td>M4B</td>\n      <td>East York</td>\n      <td>Parkview Hill</td>\n      <td></td>\n      <td></td>\n    </tr>\n    <tr>\n      <th>9</th>\n      <td>M5B</td>\n      <td>Downtown Toronto</td>\n      <td>Garden District</td>\n      <td></td>\n      <td></td>\n    </tr>\n    <tr>\n      <th>10</th>\n      <td>M6B</td>\n      <td>North York</td>\n      <td>Glencairn</td>\n      <td></td>\n      <td></td>\n    </tr>\n    <tr>\n      <th>11</th>\n      <td>M9B</td>\n      <td>Etobicoke</td>\n      <td>West Deane Park</td>\n      <td></td>\n      <td></td>\n    </tr>\n    <tr>\n      <th>12</th>\n      <td>M1C</td>\n      <td>Scarborough</td>\n      <td>Rouge Hill</td>\n      <td></td>\n      <td></td>\n    </tr>\n    <tr>\n      <th>13</th>\n      <td>M3C</td>\n      <td>North York</td>\n      <td>Don Mills</td>\n      <td></td>\n      <td></td>\n    </tr>\n    <tr>\n      <th>14</th>\n      <td>M4C</td>\n      <td>East York</td>\n      <td>Woodbine Heights</td>\n      <td></td>\n      <td></td>\n    </tr>\n    <tr>\n      <th>15</th>\n      <td>M5C</td>\n      <td>Downtown Toronto</td>\n      <td>St. James Town</td>\n      <td></td>\n      <td></td>\n    </tr>\n    <tr>\n      <th>16</th>\n      <td>M6C</td>\n      <td>York</td>\n      <td>Humewood</td>\n      <td></td>\n      <td></td>\n    </tr>\n    <tr>\n      <th>17</th>\n      <td>M9C</td>\n      <td>Etobicoke</td>\n      <td>Eringate</td>\n      <td></td>\n      <td></td>\n    </tr>\n    <tr>\n      <th>18</th>\n      <td>M1E</td>\n      <td>Scarborough</td>\n      <td>Guildwood</td>\n      <td></td>\n      <td></td>\n    </tr>\n    <tr>\n      <th>19</th>\n      <td>M4E</td>\n      <td>East Toronto</td>\n      <td>The Beaches</td>\n      <td></td>\n      <td></td>\n    </tr>\n    <tr>\n      <th>20</th>\n      <td>M5E</td>\n      <td>Downtown Toronto</td>\n      <td>Berczy Park</td>\n      <td></td>\n      <td></td>\n    </tr>\n    <tr>\n      <th>21</th>\n      <td>M6E</td>\n      <td>York</td>\n      <td>Caledonia</td>\n      <td></td>\n      <td></td>\n    </tr>\n    <tr>\n      <th>22</th>\n      <td>M1G</td>\n      <td>Scarborough</td>\n      <td>Woburn</td>\n      <td></td>\n      <td></td>\n    </tr>\n    <tr>\n      <th>23</th>\n      <td>M4G</td>\n      <td>East York</td>\n      <td>Leaside</td>\n      <td></td>\n      <td></td>\n    </tr>\n    <tr>\n      <th>24</th>\n      <td>M5G</td>\n      <td>Downtown Toronto</td>\n      <td>Central Bay Street</td>\n      <td></td>\n      <td></td>\n    </tr>\n    <tr>\n      <th>25</th>\n      <td>M6G</td>\n      <td>Downtown Toronto</td>\n      <td>Christie</td>\n      <td></td>\n      <td></td>\n    </tr>\n    <tr>\n      <th>26</th>\n      <td>M1H</td>\n      <td>Scarborough</td>\n      <td>Cedarbrae</td>\n      <td></td>\n      <td></td>\n    </tr>\n    <tr>\n      <th>27</th>\n      <td>M2H</td>\n      <td>North York</td>\n      <td>Hillcrest Village</td>\n      <td></td>\n      <td></td>\n    </tr>\n    <tr>\n      <th>28</th>\n      <td>M3H</td>\n      <td>North York</td>\n      <td>Bathurst Manor</td>\n      <td></td>\n      <td></td>\n    </tr>\n    <tr>\n      <th>29</th>\n      <td>M4H</td>\n      <td>East York</td>\n      <td>Thorncliffe Park</td>\n      <td></td>\n      <td></td>\n    </tr>\n    <tr>\n      <th>30</th>\n      <td>M5H</td>\n      <td>Downtown Toronto</td>\n      <td>Richmond</td>\n      <td></td>\n      <td></td>\n    </tr>\n    <tr>\n      <th>31</th>\n      <td>M6H</td>\n      <td>West Toronto</td>\n      <td>Dufferin</td>\n      <td></td>\n      <td></td>\n    </tr>\n    <tr>\n      <th>32</th>\n      <td>M1J</td>\n      <td>Scarborough</td>\n      <td>Scarborough Village</td>\n      <td></td>\n      <td></td>\n    </tr>\n    <tr>\n      <th>33</th>\n      <td>M2J</td>\n      <td>North York</td>\n      <td>Fairview</td>\n      <td></td>\n      <td></td>\n    </tr>\n    <tr>\n      <th>34</th>\n      <td>M3J</td>\n      <td>North York</td>\n      <td>Northwood Park</td>\n      <td></td>\n      <td></td>\n    </tr>\n    <tr>\n      <th>35</th>\n      <td>M4J</td>\n      <td>East York</td>\n      <td>East Toronto</td>\n      <td></td>\n      <td></td>\n    </tr>\n    <tr>\n      <th>36</th>\n      <td>M5J</td>\n      <td>Downtown Toronto</td>\n      <td>Harbourfront East</td>\n      <td></td>\n      <td></td>\n    </tr>\n    <tr>\n      <th>37</th>\n      <td>M6J</td>\n      <td>West Toronto</td>\n      <td>Little Portugal</td>\n      <td></td>\n      <td></td>\n    </tr>\n    <tr>\n      <th>38</th>\n      <td>M1K</td>\n      <td>Scarborough</td>\n      <td>Kennedy Park</td>\n      <td></td>\n      <td></td>\n    </tr>\n    <tr>\n      <th>39</th>\n      <td>M2K</td>\n      <td>North York</td>\n      <td>Bayview Village</td>\n      <td></td>\n      <td></td>\n    </tr>\n    <tr>\n      <th>40</th>\n      <td>M3K</td>\n      <td>North York</td>\n      <td>Downsview</td>\n      <td></td>\n      <td></td>\n    </tr>\n    <tr>\n      <th>41</th>\n      <td>M4K</td>\n      <td>East Toronto</td>\n      <td>The Danforth West</td>\n      <td></td>\n      <td></td>\n    </tr>\n    <tr>\n      <th>42</th>\n      <td>M5K</td>\n      <td>Downtown Toronto</td>\n      <td>Toronto Dominion Centre</td>\n      <td></td>\n      <td></td>\n    </tr>\n    <tr>\n      <th>43</th>\n      <td>M6K</td>\n      <td>West Toronto</td>\n      <td>Brockton</td>\n      <td></td>\n      <td></td>\n    </tr>\n    <tr>\n      <th>44</th>\n      <td>M1L</td>\n      <td>Scarborough</td>\n      <td>Golden Mile</td>\n      <td></td>\n      <td></td>\n    </tr>\n    <tr>\n      <th>45</th>\n      <td>M2L</td>\n      <td>North York</td>\n      <td>York Mills</td>\n      <td></td>\n      <td></td>\n    </tr>\n    <tr>\n      <th>46</th>\n      <td>M3L</td>\n      <td>North York</td>\n      <td>Downsview</td>\n      <td></td>\n      <td></td>\n    </tr>\n    <tr>\n      <th>47</th>\n      <td>M4L</td>\n      <td>East Toronto</td>\n      <td>India Bazaar</td>\n      <td></td>\n      <td></td>\n    </tr>\n    <tr>\n      <th>48</th>\n      <td>M5L</td>\n      <td>Downtown Toronto</td>\n      <td>Commerce Court</td>\n      <td></td>\n      <td></td>\n    </tr>\n    <tr>\n      <th>49</th>\n      <td>M6L</td>\n      <td>North York</td>\n      <td>North Park</td>\n      <td></td>\n      <td></td>\n    </tr>\n  </tbody>\n</table>\n</div>",
                        "text/plain": "   PostalCode           Borough             Neighborhood Latitude Longitude\n0         M3A        North York                Parkwoods                   \n1         M4A        North York         Victoria Village                   \n2         M5A  Downtown Toronto              Regent Park                   \n3         M6A        North York           Lawrence Manor                   \n4         M7A  Downtown Toronto             Queen's Park                   \n5         M9A         Etobicoke         Islington Avenue                   \n6         M1B       Scarborough                  Malvern                   \n7         M3B        North York                Don Mills                   \n8         M4B         East York            Parkview Hill                   \n9         M5B  Downtown Toronto          Garden District                   \n10        M6B        North York                Glencairn                   \n11        M9B         Etobicoke          West Deane Park                   \n12        M1C       Scarborough               Rouge Hill                   \n13        M3C        North York                Don Mills                   \n14        M4C         East York         Woodbine Heights                   \n15        M5C  Downtown Toronto           St. James Town                   \n16        M6C              York                 Humewood                   \n17        M9C         Etobicoke                 Eringate                   \n18        M1E       Scarborough                Guildwood                   \n19        M4E      East Toronto              The Beaches                   \n20        M5E  Downtown Toronto              Berczy Park                   \n21        M6E              York                Caledonia                   \n22        M1G       Scarborough                   Woburn                   \n23        M4G         East York                  Leaside                   \n24        M5G  Downtown Toronto       Central Bay Street                   \n25        M6G  Downtown Toronto                 Christie                   \n26        M1H       Scarborough                Cedarbrae                   \n27        M2H        North York        Hillcrest Village                   \n28        M3H        North York           Bathurst Manor                   \n29        M4H         East York         Thorncliffe Park                   \n30        M5H  Downtown Toronto                 Richmond                   \n31        M6H      West Toronto                 Dufferin                   \n32        M1J       Scarborough      Scarborough Village                   \n33        M2J        North York                 Fairview                   \n34        M3J        North York           Northwood Park                   \n35        M4J         East York             East Toronto                   \n36        M5J  Downtown Toronto        Harbourfront East                   \n37        M6J      West Toronto          Little Portugal                   \n38        M1K       Scarborough             Kennedy Park                   \n39        M2K        North York          Bayview Village                   \n40        M3K        North York                Downsview                   \n41        M4K      East Toronto        The Danforth West                   \n42        M5K  Downtown Toronto  Toronto Dominion Centre                   \n43        M6K      West Toronto                 Brockton                   \n44        M1L       Scarborough              Golden Mile                   \n45        M2L        North York               York Mills                   \n46        M3L        North York                Downsview                   \n47        M4L      East Toronto             India Bazaar                   \n48        M5L  Downtown Toronto           Commerce Court                   \n49        M6L        North York               North Park                   "
                    },
                    "execution_count": 10,
                    "metadata": {},
                    "output_type": "execute_result"
                }
            ],
            "source": "df.head(50)"
        },
        {
            "cell_type": "markdown",
            "metadata": {},
            "source": "## 4. Get coordinates and populate the df "
        },
        {
            "cell_type": "code",
            "execution_count": 11,
            "metadata": {},
            "outputs": [],
            "source": "df1 = df.loc[0:25]\ndf2 = df.loc[26:50]\ndf3 = df.loc[51:75]\ndf4 = df.loc[76:102]"
        },
        {
            "cell_type": "code",
            "execution_count": 21,
            "metadata": {},
            "outputs": [
                {
                    "name": "stdout",
                    "output_type": "stream",
                    "text": "The geograpical coordinate of Parkwoods, Toronto are 43.7587999, -79.3201966.\nThe geograpical coordinate of Victoria Village, Toronto are 43.732658, -79.3111892.\nThe geograpical coordinate of Regent Park, Toronto are 43.6607056, -79.3604569.\nThe geograpical coordinate of Lawrence Manor, Toronto are 43.7220788, -79.4375067.\nThe geograpical coordinate of Queen's Park, Toronto are 43.659659, -79.3903399.\nThe geograpical coordinate of Islington Avenue, Toronto are 43.6389593, -79.5210499.\nThe geograpical coordinate of Malvern, Toronto are 43.8091955, -79.2217008.\nThe geograpical coordinate of Don Mills, Toronto are 43.775347, -79.3459439.\nThe geograpical coordinate of Parkview Hill, Toronto are 43.7062977, -79.3219073.\nThe geograpical coordinate of Garden District, Toronto are 43.6564995, -79.3771141.\nThe geograpical coordinate of Glencairn, Toronto are 43.7087117, -79.4406853.\nThe geograpical coordinate of West Deane Park, Toronto are 43.6631995, -79.5685684.\nThe geograpical coordinate of Rouge Hill, Toronto are 43.7802711, -79.1304992.\nThe geograpical coordinate of Don Mills, Toronto are 43.775347, -79.3459439.\nThe geograpical coordinate of Woodbine Heights, Toronto are 43.69992, -79.319279.\nThe geograpical coordinate of St. James Town, Toronto are 43.6694032, -79.3727041.\nThe geograpical coordinate of Humewood, Toronto are 43.6857205, -79.4251158.\nThe geograpical coordinate of Eringate, Toronto are 43.6622732, -79.5765162.\nThe geograpical coordinate of Guildwood, Toronto are 43.7552251, -79.1982293.\nThe geograpical coordinate of The Beaches, Toronto are 43.6710244, -79.296712.\nThe geograpical coordinate of Berczy Park, Toronto are 43.64798435, -79.37539591138858.\nThe geograpical coordinate of Caledonia, Toronto are 43.6923702, -79.4653558.\nThe geograpical coordinate of Woburn, Toronto are 43.7598243, -79.2252908.\nThe geograpical coordinate of Leaside, Toronto are 43.7047983, -79.3680904.\nThe geograpical coordinate of Central Bay Street, Toronto are 43.6597555, -79.3853931.\nThe geograpical coordinate of Christie, Toronto are 43.6641106, -79.4184051.\n"
                }
            ],
            "source": "to_drop_unknown = []\ngeolocator = Nominatim(user_agent=\"1\")\nfor index, row in df1.iterrows():\n    address = row['Neighborhood'] + ', Toronto'\n    try:\n        location = geolocator.geocode(address)\n        latitude = location.latitude\n        longitude = location.longitude\n        print('The geograpical coordinate of {} are {}, {}.'.format(address, latitude, longitude))\n        df1.loc[index, 'Latitude'] = latitude\n        df1.loc[index, 'Longitude'] = longitude\n    except AttributeError:\n        print('Cannot do: {}, will drop index: {}'.format(address, index))\n        to_drop_unknown.append(index)"
        },
        {
            "cell_type": "code",
            "execution_count": 22,
            "metadata": {},
            "outputs": [
                {
                    "name": "stdout",
                    "output_type": "stream",
                    "text": "The geograpical coordinate of Cedarbrae, Toronto are 43.75646655, -79.22669244258802.\nThe geograpical coordinate of Hillcrest Village, Toronto are 43.6816953, -79.4257118.\nThe geograpical coordinate of Bathurst Manor, Toronto are 43.6655189, -79.4119373.\nThe geograpical coordinate of Thorncliffe Park, Toronto are 43.704553, -79.3454074.\nThe geograpical coordinate of Richmond, Toronto are 43.6485875, -79.3913729.\nThe geograpical coordinate of Dufferin, Toronto are 43.6602019, -79.4357191.\nThe geograpical coordinate of Scarborough Village, Toronto are 43.7437422, -79.2116324.\nThe geograpical coordinate of Fairview, Toronto are 43.777758500000004, -79.34429375180316.\nThe geograpical coordinate of Northwood Park, Toronto are 43.7541351, -79.50448.\nThe geograpical coordinate of East Toronto, Toronto are 43.626243, -79.396962.\nThe geograpical coordinate of Harbourfront East, Toronto are 43.6400801, -79.3801495.\nThe geograpical coordinate of Little Portugal, Toronto are 43.64741325, -79.43111632546047.\nThe geograpical coordinate of Kennedy Park, Toronto are 43.724878, -79.2539688.\nThe geograpical coordinate of Bayview Village, Toronto are 43.7691966, -79.3766617.\nThe geograpical coordinate of Downsview, Toronto are 43.7492988, -79.462248.\nThe geograpical coordinate of The Danforth West, Toronto are 43.6864333, -79.3003555.\nThe geograpical coordinate of Toronto Dominion Centre, Toronto are 43.6473768, -79.3813719429129.\nThe geograpical coordinate of Brockton, Toronto are 43.6509173, -79.4400216.\nThe geograpical coordinate of Golden Mile, Toronto are 43.7278414, -79.2876217.\nThe geograpical coordinate of York Mills, Toronto are 43.7440391, -79.406657.\nThe geograpical coordinate of Downsview, Toronto are 43.7492988, -79.462248.\nThe geograpical coordinate of India Bazaar, Toronto are 43.6722231, -79.3235032.\nThe geograpical coordinate of Commerce Court, Toronto are 43.648163800000006, -79.37776594404383.\nThe geograpical coordinate of North Park, Toronto are 43.7186899, -79.4775337.\nThe geograpical coordinate of Humber Summit, Toronto are 43.7600778, -79.5717598.\n"
                }
            ],
            "source": "geolocator = Nominatim(user_agent=\"2\")\nfor index, row in df2.iterrows():\n    address = row['Neighborhood'] + ', Toronto'\n    try:\n        location = geolocator.geocode(address)\n        latitude = location.latitude\n        longitude = location.longitude\n        print('The geograpical coordinate of {} are {}, {}.'.format(address, latitude, longitude))\n        df2.loc[index, 'Latitude'] = latitude\n        df2.loc[index, 'Longitude'] = longitude\n    except AttributeError:\n        print('Cannot do: {}, will drop index: {}'.format(address, index))\n        to_drop_unknown.append(index)"
        },
        {
            "cell_type": "code",
            "execution_count": 23,
            "metadata": {},
            "outputs": [
                {
                    "name": "stdout",
                    "output_type": "stream",
                    "text": "The geograpical coordinate of Cliffside, Toronto are 43.7111699, -79.2481769.\nThe geograpical coordinate of Willowdale, Toronto are 43.7615095, -79.4109234.\nThe geograpical coordinate of Downsview, Toronto are 43.7492988, -79.462248.\nThe geograpical coordinate of Studio District, Toronto are 43.64958515, -79.39068322559326.\nThe geograpical coordinate of Bedford Park, Toronto are 43.7373876, -79.4109253.\nCannot do: Del Ray, Toronto, will drop index: 56\nThe geograpical coordinate of Humberlea, Toronto are 43.7213166, -79.5331605.\nThe geograpical coordinate of Birch Cliff, Toronto are 43.6918051, -79.2644935.\nThe geograpical coordinate of Willowdale, Toronto are 43.7615095, -79.4109234.\nThe geograpical coordinate of Downsview, Toronto are 43.7492988, -79.462248.\nThe geograpical coordinate of Lawrence Park, Toronto are 43.729199, -79.4032525.\nThe geograpical coordinate of Roselawn, Toronto are 43.7087103, -79.4097894.\nThe geograpical coordinate of Runnymede, Toronto are 43.6517026, -79.4759978.\nThe geograpical coordinate of Weston, Toronto are 43.7001608, -79.5162474.\nThe geograpical coordinate of Dorset Park, Toronto are 43.7528467, -79.282067.\nThe geograpical coordinate of York Mills West, Toronto are 43.7440391, -79.406657.\nThe geograpical coordinate of Davisville North, Toronto are 43.697936, -79.3972908.\nThe geograpical coordinate of Forest Hill North & West, Toronto are 43.701028, -79.4255998.\nThe geograpical coordinate of High Park, Toronto are 43.6538668, -79.4668644.\nThe geograpical coordinate of Westmount, Toronto are 43.6936399, -79.5210426.\nThe geograpical coordinate of Wexford, Toronto are 43.7453767, -79.2947155.\nThe geograpical coordinate of Willowdale, Toronto are 43.7615095, -79.4109234.\nThe geograpical coordinate of North Toronto West, Toronto are 43.6465466, -79.4195263.\nThe geograpical coordinate of The Annex, Toronto are 43.6703377, -79.407117.\nThe geograpical coordinate of Parkdale, Toronto are 43.6404954, -79.4368965.\n"
                }
            ],
            "source": "geolocator = Nominatim(user_agent=\"3\")\nfor index, row in df3.iterrows():\n    address = row['Neighborhood'] + ', Toronto'\n    try:\n        location = geolocator.geocode(address)\n        latitude = location.latitude\n        longitude = location.longitude\n        print('The geograpical coordinate of {} are {}, {}.'.format(address, latitude, longitude))\n        df3.loc[index, 'Latitude'] = latitude\n        df3.loc[index, 'Longitude'] = longitude\n    except AttributeError:\n        print('Cannot do: {}, will drop index: {}'.format(address, index))\n        to_drop_unknown.append(index)"
        },
        {
            "cell_type": "code",
            "execution_count": 24,
            "metadata": {},
            "outputs": [
                {
                    "name": "stdout",
                    "output_type": "stream",
                    "text": "Cannot do: Canada Post Gateway Processing Centre, Toronto, will drop index: 76\nThe geograpical coordinate of Kingsview Village, Toronto are 43.6995391, -79.5563459.\nThe geograpical coordinate of Agincourt, Toronto are 43.7853531, -79.2785494.\nThe geograpical coordinate of Davisville, Toronto are 43.697936, -79.3972908.\nThe geograpical coordinate of University of Toronto, Toronto are 43.663461999999996, -79.39775965337452.\nThe geograpical coordinate of Runnymede, Toronto are 43.6517026, -79.4759978.\nThe geograpical coordinate of Clarks Corners, Toronto are 43.7964095, -79.2977951.\nThe geograpical coordinate of Moore Park, Toronto are 43.6903876, -79.3832965.\nThe geograpical coordinate of Kensington Market, Toronto are 43.6552136, -79.4022604.\nThe geograpical coordinate of Milliken, Toronto are 43.8231743, -79.3017626.\nThe geograpical coordinate of Summerhill West, Toronto are 43.6816776, -79.3905037.\nThe geograpical coordinate of CN Tower, Toronto are 43.6425637, -79.38708718320467.\nThe geograpical coordinate of New Toronto, Toronto are 43.6007625, -79.505264.\nThe geograpical coordinate of South Steeles, Toronto are 43.8161778, -79.3145378.\nThe geograpical coordinate of Steeles West, Toronto are 43.8161778, -79.3145378.\nThe geograpical coordinate of Rosedale, Toronto are 43.6783556, -79.3807457.\nCannot do: Stn A PO Boxes, Toronto, will drop index: 92\nThe geograpical coordinate of Alderwood, Toronto are 43.6017173, -79.5452325.\nThe geograpical coordinate of Northwest, Toronto are 43.6465466, -79.4195263.\nThe geograpical coordinate of Upper Rouge, Toronto are 43.8049304, -79.1658374.\nThe geograpical coordinate of St. James Town, Toronto are 43.6694032, -79.3727041.\nThe geograpical coordinate of First Canadian Place, Toronto are 43.6487681, -79.38169179283025.\nThe geograpical coordinate of The Kingsway, Toronto are 43.6473811, -79.5113328.\nThe geograpical coordinate of Church and Wellesley, Toronto are 43.6708625, -79.37279241253721.\nCannot do: Business reply mail Processing Centre, Toronto, will drop index: 100\nThe geograpical coordinate of Old Mill South, Toronto are 43.649826, -79.4943338.\nThe geograpical coordinate of Mimico NW, Toronto are 43.6166773, -79.4968048.\n"
                }
            ],
            "source": "geolocator = Nominatim(user_agent=\"4\")\nfor index, row in df4.iterrows():\n    address = row['Neighborhood'] + ', Toronto'\n    try:\n        location = geolocator.geocode(address)\n        latitude = location.latitude\n        longitude = location.longitude\n        print('The geograpical coordinate of {} are {}, {}.'.format(address, latitude, longitude))\n        df4.loc[index, 'Latitude'] = latitude\n        df4.loc[index, 'Longitude'] = longitude\n    except AttributeError:\n        print('Cannot do: {}, will drop index: {}'.format(address, index))\n        to_drop_unknown.append(index)"
        },
        {
            "cell_type": "code",
            "execution_count": 25,
            "metadata": {},
            "outputs": [
                {
                    "name": "stdout",
                    "output_type": "stream",
                    "text": "(26, 5)\n(25, 5)\n(25, 5)\n(27, 5)\n"
                }
            ],
            "source": "print(df1.shape)\nprint(df2.shape)\nprint(df3.shape)\nprint(df4.shape)"
        },
        {
            "cell_type": "code",
            "execution_count": 26,
            "metadata": {},
            "outputs": [],
            "source": "df = df1.append(df2, ignore_index = True)\ndf = df.append(df3, ignore_index = True)\ndf = df.append(df4, ignore_index = True)"
        },
        {
            "cell_type": "code",
            "execution_count": 27,
            "metadata": {},
            "outputs": [
                {
                    "data": {
                        "text/html": "<div>\n<style scoped>\n    .dataframe tbody tr th:only-of-type {\n        vertical-align: middle;\n    }\n\n    .dataframe tbody tr th {\n        vertical-align: top;\n    }\n\n    .dataframe thead th {\n        text-align: right;\n    }\n</style>\n<table border=\"1\" class=\"dataframe\">\n  <thead>\n    <tr style=\"text-align: right;\">\n      <th></th>\n      <th>PostalCode</th>\n      <th>Borough</th>\n      <th>Neighborhood</th>\n      <th>Latitude</th>\n      <th>Longitude</th>\n    </tr>\n  </thead>\n  <tbody>\n    <tr>\n      <th>0</th>\n      <td>M3A</td>\n      <td>North York</td>\n      <td>Parkwoods</td>\n      <td>43.7588</td>\n      <td>-79.3202</td>\n    </tr>\n    <tr>\n      <th>1</th>\n      <td>M4A</td>\n      <td>North York</td>\n      <td>Victoria Village</td>\n      <td>43.7327</td>\n      <td>-79.3112</td>\n    </tr>\n    <tr>\n      <th>2</th>\n      <td>M5A</td>\n      <td>Downtown Toronto</td>\n      <td>Regent Park</td>\n      <td>43.6607</td>\n      <td>-79.3605</td>\n    </tr>\n    <tr>\n      <th>3</th>\n      <td>M6A</td>\n      <td>North York</td>\n      <td>Lawrence Manor</td>\n      <td>43.7221</td>\n      <td>-79.4375</td>\n    </tr>\n    <tr>\n      <th>4</th>\n      <td>M7A</td>\n      <td>Downtown Toronto</td>\n      <td>Queen's Park</td>\n      <td>43.6597</td>\n      <td>-79.3903</td>\n    </tr>\n  </tbody>\n</table>\n</div>",
                        "text/plain": "  PostalCode           Borough      Neighborhood Latitude Longitude\n0        M3A        North York         Parkwoods  43.7588  -79.3202\n1        M4A        North York  Victoria Village  43.7327  -79.3112\n2        M5A  Downtown Toronto       Regent Park  43.6607  -79.3605\n3        M6A        North York    Lawrence Manor  43.7221  -79.4375\n4        M7A  Downtown Toronto      Queen's Park  43.6597  -79.3903"
                    },
                    "execution_count": 27,
                    "metadata": {},
                    "output_type": "execute_result"
                }
            ],
            "source": "df.head()"
        },
        {
            "cell_type": "markdown",
            "metadata": {},
            "source": "## 5. Cleaning the dataframe"
        },
        {
            "cell_type": "code",
            "execution_count": 28,
            "metadata": {},
            "outputs": [
                {
                    "data": {
                        "text/plain": "(99, 5)"
                    },
                    "execution_count": 28,
                    "metadata": {},
                    "output_type": "execute_result"
                }
            ],
            "source": "clean_df = df.drop(to_drop_unknown)\nclean_df['Latitude'].replace('', np.nan, inplace=True)\nclean_df.dropna(subset=['Latitude'], inplace=True)\nclean_df.shape"
        },
        {
            "cell_type": "code",
            "execution_count": 29,
            "metadata": {},
            "outputs": [
                {
                    "data": {
                        "text/html": "<div>\n<style scoped>\n    .dataframe tbody tr th:only-of-type {\n        vertical-align: middle;\n    }\n\n    .dataframe tbody tr th {\n        vertical-align: top;\n    }\n\n    .dataframe thead th {\n        text-align: right;\n    }\n</style>\n<table border=\"1\" class=\"dataframe\">\n  <thead>\n    <tr style=\"text-align: right;\">\n      <th></th>\n      <th>PostalCode</th>\n      <th>Borough</th>\n      <th>Neighborhood</th>\n      <th>Latitude</th>\n      <th>Longitude</th>\n    </tr>\n  </thead>\n  <tbody>\n    <tr>\n      <th>0</th>\n      <td>M3A</td>\n      <td>North York</td>\n      <td>Parkwoods</td>\n      <td>43.758800</td>\n      <td>-79.3202</td>\n    </tr>\n    <tr>\n      <th>1</th>\n      <td>M4A</td>\n      <td>North York</td>\n      <td>Victoria Village</td>\n      <td>43.732658</td>\n      <td>-79.3112</td>\n    </tr>\n    <tr>\n      <th>2</th>\n      <td>M5A</td>\n      <td>Downtown Toronto</td>\n      <td>Regent Park</td>\n      <td>43.660706</td>\n      <td>-79.3605</td>\n    </tr>\n    <tr>\n      <th>3</th>\n      <td>M6A</td>\n      <td>North York</td>\n      <td>Lawrence Manor</td>\n      <td>43.722079</td>\n      <td>-79.4375</td>\n    </tr>\n    <tr>\n      <th>4</th>\n      <td>M7A</td>\n      <td>Downtown Toronto</td>\n      <td>Queen's Park</td>\n      <td>43.659659</td>\n      <td>-79.3903</td>\n    </tr>\n    <tr>\n      <th>5</th>\n      <td>M9A</td>\n      <td>Etobicoke</td>\n      <td>Islington Avenue</td>\n      <td>43.638959</td>\n      <td>-79.521</td>\n    </tr>\n    <tr>\n      <th>6</th>\n      <td>M1B</td>\n      <td>Scarborough</td>\n      <td>Malvern</td>\n      <td>43.809196</td>\n      <td>-79.2217</td>\n    </tr>\n    <tr>\n      <th>7</th>\n      <td>M3B</td>\n      <td>North York</td>\n      <td>Don Mills</td>\n      <td>43.775347</td>\n      <td>-79.3459</td>\n    </tr>\n    <tr>\n      <th>8</th>\n      <td>M4B</td>\n      <td>East York</td>\n      <td>Parkview Hill</td>\n      <td>43.706298</td>\n      <td>-79.3219</td>\n    </tr>\n    <tr>\n      <th>9</th>\n      <td>M5B</td>\n      <td>Downtown Toronto</td>\n      <td>Garden District</td>\n      <td>43.656500</td>\n      <td>-79.3771</td>\n    </tr>\n    <tr>\n      <th>10</th>\n      <td>M6B</td>\n      <td>North York</td>\n      <td>Glencairn</td>\n      <td>43.708712</td>\n      <td>-79.4407</td>\n    </tr>\n    <tr>\n      <th>11</th>\n      <td>M9B</td>\n      <td>Etobicoke</td>\n      <td>West Deane Park</td>\n      <td>43.663199</td>\n      <td>-79.5686</td>\n    </tr>\n  </tbody>\n</table>\n</div>",
                        "text/plain": "   PostalCode           Borough      Neighborhood   Latitude Longitude\n0         M3A        North York         Parkwoods  43.758800  -79.3202\n1         M4A        North York  Victoria Village  43.732658  -79.3112\n2         M5A  Downtown Toronto       Regent Park  43.660706  -79.3605\n3         M6A        North York    Lawrence Manor  43.722079  -79.4375\n4         M7A  Downtown Toronto      Queen's Park  43.659659  -79.3903\n5         M9A         Etobicoke  Islington Avenue  43.638959   -79.521\n6         M1B       Scarborough           Malvern  43.809196  -79.2217\n7         M3B        North York         Don Mills  43.775347  -79.3459\n8         M4B         East York     Parkview Hill  43.706298  -79.3219\n9         M5B  Downtown Toronto   Garden District  43.656500  -79.3771\n10        M6B        North York         Glencairn  43.708712  -79.4407\n11        M9B         Etobicoke   West Deane Park  43.663199  -79.5686"
                    },
                    "execution_count": 29,
                    "metadata": {},
                    "output_type": "execute_result"
                }
            ],
            "source": "clean_df.head(12)"
        }
    ],
    "metadata": {
        "kernelspec": {
            "display_name": "Python 3.7",
            "language": "python",
            "name": "python3"
        },
        "language_info": {
            "codemirror_mode": {
                "name": "ipython",
                "version": 3
            },
            "file_extension": ".py",
            "mimetype": "text/x-python",
            "name": "python",
            "nbconvert_exporter": "python",
            "pygments_lexer": "ipython3",
            "version": "3.7.9"
        }
    },
    "nbformat": 4,
    "nbformat_minor": 4
}